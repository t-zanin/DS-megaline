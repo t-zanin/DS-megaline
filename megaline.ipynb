{
 "cells": [
  {
   "cell_type": "markdown",
   "metadata": {
    "id": "eAkbw7Ueuj8X"
   },
   "source": [
    "# Empresa de telecomunicações Megaline\n",
    "\n",
    "## Objetivo:\n",
    "\n",
    "A empresa oferece aos clientes dois planos pré-pagos: Surf e Ultimate. O departamento comercial quer saber qual dos planos gera mais receita para ajustar o orçamento de publicidade."
   ]
  },
  {
   "cell_type": "markdown",
   "metadata": {
    "id": "lnomf-3Xuj8b"
   },
   "source": [
    "## Inicialização"
   ]
  },
  {
   "cell_type": "code",
   "execution_count": 1,
   "metadata": {
    "id": "JdJusn5ouj8c",
    "trusted": false
   },
   "outputs": [],
   "source": [
    "# Carregando todas as bibliotecas\n",
    "import pandas as pd\n",
    "import numpy as np\n",
    "import seaborn as sns\n",
    "import matplotlib.pyplot as plt\n",
    "from scipy.stats import ttest_ind, levene"
   ]
  },
  {
   "cell_type": "markdown",
   "metadata": {
    "id": "rzqsCrgquj8d"
   },
   "source": [
    "## Carreguamento dos dados"
   ]
  },
  {
   "cell_type": "code",
   "execution_count": null,
   "metadata": {
    "id": "HmzmQRXIuj8e",
    "trusted": false
   },
   "outputs": [],
   "source": [
    "# Carregamento dos arquivos de dados em diferentes DataFrames\n",
    "\n",
    "calls = pd.read_csv('megaline_calls.csv') \n",
    "\n",
    "internet = pd.read_csv('megaline_internet.csv') \n",
    "\n",
    "messages = pd.read_csv('megaline_messages.csv')\n",
    "\n",
    "plans = pd.read_csv('megaline_plans.csv') \n",
    "\n",
    "users = pd.read_csv('megaline_users.csv')"
   ]
  },
  {
   "cell_type": "markdown",
   "metadata": {
    "id": "XQh-EeiIuj8e"
   },
   "source": [
    "## Prepare os dados"
   ]
  },
  {
   "cell_type": "markdown",
   "metadata": {
    "id": "TlZUw_Cyuj8f"
   },
   "source": [
    "## Planos"
   ]
  },
  {
   "cell_type": "code",
   "execution_count": 8,
   "metadata": {
    "id": "x9qB5mAOuj8f",
    "trusted": false
   },
   "outputs": [
    {
     "name": "stdout",
     "output_type": "stream",
     "text": [
      "<class 'pandas.core.frame.DataFrame'>\n",
      "RangeIndex: 2 entries, 0 to 1\n",
      "Data columns (total 8 columns):\n",
      " #   Column                 Non-Null Count  Dtype  \n",
      "---  ------                 --------------  -----  \n",
      " 0   messages_included      2 non-null      int64  \n",
      " 1   mb_per_month_included  2 non-null      int64  \n",
      " 2   minutes_included       2 non-null      int64  \n",
      " 3   usd_monthly_pay        2 non-null      int64  \n",
      " 4   usd_per_gb             2 non-null      int64  \n",
      " 5   usd_per_message        2 non-null      float64\n",
      " 6   usd_per_minute         2 non-null      float64\n",
      " 7   plan_name              2 non-null      object \n",
      "dtypes: float64(2), int64(5), object(1)\n",
      "memory usage: 260.0+ bytes\n",
      "None\n",
      "\n",
      "   messages_included  mb_per_month_included  minutes_included  \\\n",
      "0                 50                  15360               500   \n",
      "1               1000                  30720              3000   \n",
      "\n",
      "   usd_monthly_pay  usd_per_gb  usd_per_message  usd_per_minute plan_name  \n",
      "0               20          10             0.03            0.03      surf  \n",
      "1               70           7             0.01            0.01  ultimate  \n",
      "\n",
      "messages_included        0\n",
      "mb_per_month_included    0\n",
      "minutes_included         0\n",
      "usd_monthly_pay          0\n",
      "usd_per_gb               0\n",
      "usd_per_message          0\n",
      "usd_per_minute           0\n",
      "plan_name                0\n",
      "dtype: int64\n",
      "\n",
      "0\n"
     ]
    }
   ],
   "source": [
    "# Informações gerais/resumo sobre o DataFrame dos planos\n",
    "\n",
    "print(plans.info())\n",
    "print() \n",
    "print(plans.head())\n",
    "print()\n",
    "print(plans.isnull().sum()) # Verificar valores ausentes\n",
    "print()\n",
    "print(plans.duplicated().sum()) # verificar valores duplicados\n",
    "\n"
   ]
  },
  {
   "cell_type": "markdown",
   "metadata": {
    "id": "P8hzr-lquj8f"
   },
   "source": [
    "**Dados informativo sobre a descrição dos dois planos existentes na empresa, Surf e Ultimate. O nome das colunas estão corretos  e sem letras maiúsculas ou espaços. Sem dados duplicados ou ausentes**"
   ]
  },
  {
   "cell_type": "markdown",
   "metadata": {
    "id": "YJg2O9qjuj8g"
   },
   "source": [
    "## Usuários"
   ]
  },
  {
   "cell_type": "code",
   "execution_count": 9,
   "metadata": {
    "id": "7JzxwD2juj8g",
    "trusted": false
   },
   "outputs": [
    {
     "name": "stdout",
     "output_type": "stream",
     "text": [
      "<class 'pandas.core.frame.DataFrame'>\n",
      "RangeIndex: 500 entries, 0 to 499\n",
      "Data columns (total 8 columns):\n",
      " #   Column      Non-Null Count  Dtype \n",
      "---  ------      --------------  ----- \n",
      " 0   user_id     500 non-null    int64 \n",
      " 1   first_name  500 non-null    object\n",
      " 2   last_name   500 non-null    object\n",
      " 3   age         500 non-null    int64 \n",
      " 4   city        500 non-null    object\n",
      " 5   reg_date    500 non-null    object\n",
      " 6   plan        500 non-null    object\n",
      " 7   churn_date  34 non-null     object\n",
      "dtypes: int64(2), object(6)\n",
      "memory usage: 31.4+ KB\n",
      "None\n",
      "\n",
      "user_id         0\n",
      "first_name      0\n",
      "last_name       0\n",
      "age             0\n",
      "city            0\n",
      "reg_date        0\n",
      "plan            0\n",
      "churn_date    466\n",
      "dtype: int64\n",
      "\n",
      "0\n",
      "\n",
      "   user_id first_name  last_name  age                                   city  \\\n",
      "0     1000   Anamaria      Bauer   45  Atlanta-Sandy Springs-Roswell, GA MSA   \n",
      "1     1001     Mickey  Wilkerson   28        Seattle-Tacoma-Bellevue, WA MSA   \n",
      "2     1002     Carlee    Hoffman   36   Las Vegas-Henderson-Paradise, NV MSA   \n",
      "3     1003   Reynaldo    Jenkins   52                          Tulsa, OK MSA   \n",
      "4     1004    Leonila   Thompson   40        Seattle-Tacoma-Bellevue, WA MSA   \n",
      "\n",
      "     reg_date      plan churn_date  \n",
      "0  2018-12-24  ultimate        NaN  \n",
      "1  2018-08-13      surf        NaN  \n",
      "2  2018-10-21      surf        NaN  \n",
      "3  2018-01-28      surf        NaN  \n",
      "4  2018-05-23      surf        NaN  \n"
     ]
    }
   ],
   "source": [
    "# Informações gerais/resumo sobre o DataFrame dos usuários\n",
    "\n",
    "print(users.info())\n",
    "print() \n",
    "print(users.isnull().sum()) # Verificar valores ausentes\n",
    "print()\n",
    "print(users.duplicated().sum()) # verificar valores duplicados\n",
    "print()\n",
    "print(users.head()) # amostra de dados dos usuários"
   ]
  },
  {
   "cell_type": "markdown",
   "metadata": {
    "id": "XGCgkfLvuj8h"
   },
   "source": [
    "**Nos dados \"users\" temos amostra de 500 clientes. Em relação aos nomes das colunas, estão corretos, sem letras maiúsculas ou espaços. Verifiquei que não temos dados duplicados. Em relação aos dados ausentes, na coluna 'churn_date' temos 466 linhas ausentes. As linhas ausentes representam clientes ativos, então vou substituir o ausente por uma data extrema fixa.**\n",
    "\n",
    "**Tanto a coluna 'reg_date' como 'churn_date' que estão como objeto, vou converter para Datetime**"
   ]
  },
  {
   "cell_type": "markdown",
   "metadata": {
    "id": "ppiEfe3luj8i"
   },
   "source": [
    "### Correção dos dados: 'users'"
   ]
  },
  {
   "cell_type": "code",
   "execution_count": 10,
   "metadata": {
    "id": "Oa1XFooouj8j",
    "trusted": false
   },
   "outputs": [
    {
     "name": "stdout",
     "output_type": "stream",
     "text": [
      "<class 'pandas.core.frame.DataFrame'>\n",
      "RangeIndex: 500 entries, 0 to 499\n",
      "Data columns (total 8 columns):\n",
      " #   Column      Non-Null Count  Dtype         \n",
      "---  ------      --------------  -----         \n",
      " 0   user_id     500 non-null    int64         \n",
      " 1   first_name  500 non-null    object        \n",
      " 2   last_name   500 non-null    object        \n",
      " 3   age         500 non-null    int64         \n",
      " 4   city        500 non-null    object        \n",
      " 5   reg_date    500 non-null    datetime64[ns]\n",
      " 6   plan        500 non-null    object        \n",
      " 7   churn_date  500 non-null    datetime64[ns]\n",
      "dtypes: datetime64[ns](2), int64(2), object(4)\n",
      "memory usage: 31.4+ KB\n",
      "None\n",
      "\n",
      "user_id       0\n",
      "first_name    0\n",
      "last_name     0\n",
      "age           0\n",
      "city          0\n",
      "reg_date      0\n",
      "plan          0\n",
      "churn_date    0\n",
      "dtype: int64\n",
      "\n",
      "    user_id first_name  last_name  age  \\\n",
      "0      1000   Anamaria      Bauer   45   \n",
      "1      1001     Mickey  Wilkerson   28   \n",
      "2      1002     Carlee    Hoffman   36   \n",
      "3      1003   Reynaldo    Jenkins   52   \n",
      "4      1004    Leonila   Thompson   40   \n",
      "5      1005      Livia    Shields   31   \n",
      "6      1006     Jesusa   Bradford   73   \n",
      "7      1007    Eusebio      Welch   42   \n",
      "8      1008      Emely    Hoffman   53   \n",
      "9      1009      Gerry     Little   19   \n",
      "10     1010     Wilber      Blair   52   \n",
      "11     1011     Halina      Henry   73   \n",
      "12     1012    Jonelle    Mcbride   59   \n",
      "13     1013    Nicolas     Snider   50   \n",
      "14     1014    Edmundo      Simon   61   \n",
      "\n",
      "                                         city   reg_date      plan churn_date  \n",
      "0       Atlanta-Sandy Springs-Roswell, GA MSA 2018-12-24  ultimate 2099-12-31  \n",
      "1             Seattle-Tacoma-Bellevue, WA MSA 2018-08-13      surf 2099-12-31  \n",
      "2        Las Vegas-Henderson-Paradise, NV MSA 2018-10-21      surf 2099-12-31  \n",
      "3                               Tulsa, OK MSA 2018-01-28      surf 2099-12-31  \n",
      "4             Seattle-Tacoma-Bellevue, WA MSA 2018-05-23      surf 2099-12-31  \n",
      "5         Dallas-Fort Worth-Arlington, TX MSA 2018-11-29      surf 2099-12-31  \n",
      "6      San Francisco-Oakland-Berkeley, CA MSA 2018-11-27  ultimate 2018-12-18  \n",
      "7               Grand Rapids-Kentwood, MI MSA 2018-07-11      surf 2099-12-31  \n",
      "8           Orlando-Kissimmee-Sanford, FL MSA 2018-08-03  ultimate 2099-12-31  \n",
      "9      San Jose-Sunnyvale-Santa Clara, CA MSA 2018-04-22      surf 2099-12-31  \n",
      "10        Dallas-Fort Worth-Arlington, TX MSA 2018-03-09      surf 2099-12-31  \n",
      "11                   Cleveland-Elyria, OH MSA 2018-01-18  ultimate 2099-12-31  \n",
      "12     Chicago-Naperville-Elgin, IL-IN-WI MSA 2018-06-28      surf 2018-11-16  \n",
      "13                          Knoxville, TN MSA 2018-12-01  ultimate 2099-12-31  \n",
      "14  New York-Newark-Jersey City, NY-NJ-PA MSA 2018-11-25      surf 2099-12-31  \n"
     ]
    }
   ],
   "source": [
    "# Substituir valores ausentes por uma data fictícia\n",
    "\n",
    "users['churn_date'] = users['churn_date'].fillna(pd.Timestamp('2099-12-31'))\n",
    "\n",
    "# Converter as colunas `reg_date` e 'churn_date' para datetime\n",
    "\n",
    "users['reg_date'] = pd.to_datetime(users['reg_date'])\n",
    "users['churn_date'] = pd.to_datetime(users['churn_date'])\n",
    "\n",
    "print(users.info())\n",
    "print() \n",
    "print(users.isnull().sum()) # Verificar valores ausentes\n",
    "print()\n",
    "print(users.head(15))"
   ]
  },
  {
   "cell_type": "markdown",
   "metadata": {
    "id": "f4uSIMuuuj8j"
   },
   "source": [
    "## Chamadas"
   ]
  },
  {
   "cell_type": "code",
   "execution_count": null,
   "metadata": {
    "id": "hkY01fJnuj8j",
    "trusted": false
   },
   "outputs": [
    {
     "name": "stdout",
     "output_type": "stream",
     "text": [
      "<class 'pandas.core.frame.DataFrame'>\n",
      "RangeIndex: 137735 entries, 0 to 137734\n",
      "Data columns (total 4 columns):\n",
      " #   Column     Non-Null Count   Dtype  \n",
      "---  ------     --------------   -----  \n",
      " 0   id         137735 non-null  object \n",
      " 1   user_id    137735 non-null  int64  \n",
      " 2   call_date  137735 non-null  object \n",
      " 3   duration   137735 non-null  float64\n",
      "dtypes: float64(1), int64(1), object(2)\n",
      "memory usage: 4.2+ MB\n",
      "None\n",
      "\n",
      "id           0\n",
      "user_id      0\n",
      "call_date    0\n",
      "duration     0\n",
      "dtype: int64\n",
      "\n",
      "0\n",
      "\n",
      "         id  user_id   call_date  duration\n",
      "0   1000_93     1000  2018-12-27      8.52\n",
      "1  1000_145     1000  2018-12-27     13.66\n",
      "2  1000_247     1000  2018-12-27     14.48\n",
      "3  1000_309     1000  2018-12-28      5.76\n",
      "4  1000_380     1000  2018-12-30      4.22\n"
     ]
    }
   ],
   "source": [
    "# Informações gerais/resumo sobre o DataFrame das chamadas\n",
    "\n",
    "print(calls.info())\n",
    "print() \n",
    "print(calls.isnull().sum()) # Verificar valores ausentes\n",
    "print()\n",
    "print(calls.duplicated().sum()) # verificar valores duplicados\n",
    "print()\n",
    "print(calls.head()) # amostra de dados das chamadas"
   ]
  },
  {
   "cell_type": "markdown",
   "metadata": {
    "id": "Y8An85-Tuj8k"
   },
   "source": [
    "**No arquivo 'calls' posso observar que temos 137735 linha que é referente a amostragem de 500 clientes em um período determinado. Não encontrei nenhum valor ausente ou duplicado. A unica alteração será na coluna 'call_date' que está como string e vou transformar em DateTime.**"
   ]
  },
  {
   "cell_type": "markdown",
   "metadata": {
    "id": "x5a99U4xuj8k"
   },
   "source": [
    "### Correção dos dados: 'calls'"
   ]
  },
  {
   "cell_type": "code",
   "execution_count": 12,
   "metadata": {
    "id": "nwOKTgfluj8l",
    "trusted": false
   },
   "outputs": [
    {
     "name": "stdout",
     "output_type": "stream",
     "text": [
      "<class 'pandas.core.frame.DataFrame'>\n",
      "RangeIndex: 137735 entries, 0 to 137734\n",
      "Data columns (total 4 columns):\n",
      " #   Column     Non-Null Count   Dtype         \n",
      "---  ------     --------------   -----         \n",
      " 0   id         137735 non-null  object        \n",
      " 1   user_id    137735 non-null  int64         \n",
      " 2   call_date  137735 non-null  datetime64[ns]\n",
      " 3   duration   137735 non-null  float64       \n",
      "dtypes: datetime64[ns](1), float64(1), int64(1), object(1)\n",
      "memory usage: 4.2+ MB\n",
      "None\n"
     ]
    }
   ],
   "source": [
    "# Converter a coluna `call_date` para datetime\n",
    "\n",
    "calls['call_date'] = pd.to_datetime(calls['call_date'])\n",
    "\n",
    "print(calls.info())"
   ]
  },
  {
   "cell_type": "markdown",
   "metadata": {
    "id": "qLz4FkyRuj8l"
   },
   "source": [
    "## Mensagens"
   ]
  },
  {
   "cell_type": "code",
   "execution_count": 13,
   "metadata": {
    "id": "nFA9DFkCuj8l",
    "trusted": false
   },
   "outputs": [
    {
     "name": "stdout",
     "output_type": "stream",
     "text": [
      "<class 'pandas.core.frame.DataFrame'>\n",
      "RangeIndex: 76051 entries, 0 to 76050\n",
      "Data columns (total 3 columns):\n",
      " #   Column        Non-Null Count  Dtype \n",
      "---  ------        --------------  ----- \n",
      " 0   id            76051 non-null  object\n",
      " 1   user_id       76051 non-null  int64 \n",
      " 2   message_date  76051 non-null  object\n",
      "dtypes: int64(1), object(2)\n",
      "memory usage: 1.7+ MB\n",
      "None\n",
      "\n",
      "id              0\n",
      "user_id         0\n",
      "message_date    0\n",
      "dtype: int64\n",
      "\n",
      "0\n",
      "\n",
      "         id  user_id message_date\n",
      "0  1000_125     1000   2018-12-27\n",
      "1  1000_160     1000   2018-12-31\n",
      "2  1000_223     1000   2018-12-31\n",
      "3  1000_251     1000   2018-12-27\n",
      "4  1000_255     1000   2018-12-26\n"
     ]
    }
   ],
   "source": [
    "# Informações gerais/resumo sobre o DataFrame das mensagens\n",
    "\n",
    "print(messages.info())\n",
    "print() \n",
    "print(messages.isnull().sum()) # Verificar valores ausentes\n",
    "print()\n",
    "print(messages.duplicated().sum()) # verificar valores duplicados\n",
    "print()\n",
    "print(messages.head()) # amostra dos dados das mensagens"
   ]
  },
  {
   "cell_type": "markdown",
   "metadata": {
    "id": "GUtt1TqCuj8m"
   },
   "source": [
    "**Nos dados 'menssages' posso observar que temos 76051 linha que é referente a amostragem de 500 clientes em um período determinado. Não encontrei nenhum valor ausente ou duplicado. A unica alteração será na coluna 'message_date' que está como string e vou transformar em DateTime.**"
   ]
  },
  {
   "cell_type": "markdown",
   "metadata": {
    "id": "tT8N_hc6uj8m"
   },
   "source": [
    "### Correção dos dados: 'menssages'"
   ]
  },
  {
   "cell_type": "code",
   "execution_count": 14,
   "metadata": {
    "id": "SkuCXcLJuj8n",
    "trusted": false
   },
   "outputs": [
    {
     "name": "stdout",
     "output_type": "stream",
     "text": [
      "<class 'pandas.core.frame.DataFrame'>\n",
      "RangeIndex: 76051 entries, 0 to 76050\n",
      "Data columns (total 3 columns):\n",
      " #   Column        Non-Null Count  Dtype         \n",
      "---  ------        --------------  -----         \n",
      " 0   id            76051 non-null  object        \n",
      " 1   user_id       76051 non-null  int64         \n",
      " 2   message_date  76051 non-null  datetime64[ns]\n",
      "dtypes: datetime64[ns](1), int64(1), object(1)\n",
      "memory usage: 1.7+ MB\n",
      "None\n"
     ]
    }
   ],
   "source": [
    "# Converter a coluna `message_date` para datetime\n",
    "\n",
    "messages['message_date'] = pd.to_datetime(messages['message_date'])\n",
    "\n",
    "print(messages.info())"
   ]
  },
  {
   "cell_type": "markdown",
   "metadata": {
    "id": "ZRFaOWzGuj8n"
   },
   "source": [
    "## Internet"
   ]
  },
  {
   "cell_type": "code",
   "execution_count": 15,
   "metadata": {
    "id": "ob3-qv4nuj8n",
    "trusted": false
   },
   "outputs": [
    {
     "name": "stdout",
     "output_type": "stream",
     "text": [
      "<class 'pandas.core.frame.DataFrame'>\n",
      "RangeIndex: 104825 entries, 0 to 104824\n",
      "Data columns (total 4 columns):\n",
      " #   Column        Non-Null Count   Dtype  \n",
      "---  ------        --------------   -----  \n",
      " 0   id            104825 non-null  object \n",
      " 1   user_id       104825 non-null  int64  \n",
      " 2   session_date  104825 non-null  object \n",
      " 3   mb_used       104825 non-null  float64\n",
      "dtypes: float64(1), int64(1), object(2)\n",
      "memory usage: 3.2+ MB\n",
      "None\n",
      "\n",
      "id              0\n",
      "user_id         0\n",
      "session_date    0\n",
      "mb_used         0\n",
      "dtype: int64\n",
      "\n",
      "0\n",
      "\n",
      "         id  user_id session_date  mb_used\n",
      "0   1000_13     1000   2018-12-29    89.86\n",
      "1  1000_204     1000   2018-12-31     0.00\n",
      "2  1000_379     1000   2018-12-28   660.40\n",
      "3  1000_413     1000   2018-12-26   270.99\n",
      "4  1000_442     1000   2018-12-27   880.22\n"
     ]
    }
   ],
   "source": [
    "# Imprima informações gerais/resumo sobre o DataFrame da internet\n",
    "\n",
    "print(internet.info())\n",
    "print() \n",
    "print(internet.isnull().sum()) # Verificar valores ausentes\n",
    "print()\n",
    "print(internet.duplicated().sum()) # verificar valores duplicados\n",
    "print()\n",
    "print(internet.head()) # amostra de dados para o tráfego da internet"
   ]
  },
  {
   "cell_type": "markdown",
   "metadata": {
    "id": "6wpo7ugquj8o"
   },
   "source": [
    "**No último arquivo 'internet' posso observar que temos 104825 linha que é referente a amostragem de 500 clientes em um período determinado. Não encontrei nenhum valor ausente ou duplicado. A unica alteração será na coluna 'session_date' que está como string e vou transformar em DateTime.**"
   ]
  },
  {
   "cell_type": "markdown",
   "metadata": {
    "id": "Tly90YrTuj8o"
   },
   "source": [
    "### Correção dos dados: 'internet'"
   ]
  },
  {
   "cell_type": "code",
   "execution_count": 16,
   "metadata": {
    "id": "f1PoZ3Ukuj8p",
    "trusted": false
   },
   "outputs": [
    {
     "name": "stdout",
     "output_type": "stream",
     "text": [
      "<class 'pandas.core.frame.DataFrame'>\n",
      "RangeIndex: 104825 entries, 0 to 104824\n",
      "Data columns (total 4 columns):\n",
      " #   Column        Non-Null Count   Dtype         \n",
      "---  ------        --------------   -----         \n",
      " 0   id            104825 non-null  object        \n",
      " 1   user_id       104825 non-null  int64         \n",
      " 2   session_date  104825 non-null  datetime64[ns]\n",
      " 3   mb_used       104825 non-null  float64       \n",
      "dtypes: datetime64[ns](1), float64(1), int64(1), object(1)\n",
      "memory usage: 3.2+ MB\n",
      "None\n"
     ]
    }
   ],
   "source": [
    "# Converter a coluna `session_date` para datetime\n",
    "\n",
    "internet['session_date'] = pd.to_datetime(internet['session_date'])\n",
    "\n",
    "print(internet.info())"
   ]
  },
  {
   "cell_type": "markdown",
   "metadata": {
    "id": "bnOX4ARJuj8p"
   },
   "source": [
    "## Entendendo as condições dos planos"
   ]
  },
  {
   "cell_type": "code",
   "execution_count": 17,
   "metadata": {
    "id": "vMXVndWEuj8p",
    "trusted": false
   },
   "outputs": [
    {
     "name": "stdout",
     "output_type": "stream",
     "text": [
      "   messages_included  mb_per_month_included  minutes_included  \\\n",
      "0                 50                  15360               500   \n",
      "1               1000                  30720              3000   \n",
      "\n",
      "   usd_monthly_pay  usd_per_gb  usd_per_message  usd_per_minute plan_name  \n",
      "0               20          10             0.03            0.03      surf  \n",
      "1               70           7             0.01            0.01  ultimate  \n"
     ]
    }
   ],
   "source": [
    "# Imprima as condições dos planos \n",
    "\n",
    "print(plans.head())"
   ]
  },
  {
   "cell_type": "markdown",
   "metadata": {
    "id": "1v1EshDmuj8q"
   },
   "source": [
    "## Agregando os dados por usuário"
   ]
  },
  {
   "cell_type": "code",
   "execution_count": 18,
   "metadata": {
    "id": "4hmb2pSPuj8q",
    "trusted": false
   },
   "outputs": [
    {
     "name": "stdout",
     "output_type": "stream",
     "text": [
      "   user_id    month  calls_count\n",
      "0     1000  2018-12           16\n",
      "1     1001  2018-08           27\n",
      "2     1001  2018-09           49\n",
      "3     1001  2018-10           65\n",
      "4     1001  2018-11           64\n"
     ]
    }
   ],
   "source": [
    "# Calcule o número de chamadas feitas por cada usuário por mês. Salve o resultado.\n",
    "\n",
    "# Criação coluna 'month' para armazenar o ano e mês (YYYY-MM)\n",
    "calls['month'] = calls['call_date'].dt.to_period('M')\n",
    "\n",
    "# Calculo do número de chamadas feitas por cada usuário por mês\n",
    "calls_per_user_month = calls.groupby(['user_id', 'month']).size().reset_index(name='calls_count')\n",
    "\n",
    "# Resultado\n",
    "print(calls_per_user_month.head())"
   ]
  },
  {
   "cell_type": "code",
   "execution_count": 19,
   "metadata": {
    "id": "yHgBWCJJuj8q",
    "trusted": false
   },
   "outputs": [
    {
     "name": "stdout",
     "output_type": "stream",
     "text": [
      "   user_id    month  total_minutes\n",
      "0     1000  2018-12          124.0\n",
      "1     1001  2018-08          182.0\n",
      "2     1001  2018-09          315.0\n",
      "3     1001  2018-10          393.0\n",
      "4     1001  2018-11          426.0\n"
     ]
    }
   ],
   "source": [
    "# Calculo da quantidade de minutos gastos por cada usuário por mês. Salve o resultado.\n",
    "\n",
    "# Arredondando cada chamada para cima (seguindo a regra da empresa)\n",
    "calls['rounded_duration'] = np.ceil(calls['duration'])\n",
    "\n",
    "# Calculo da quantidade de minutos gastos por cada usuário por mês\n",
    "minutes_per_user_month = calls.groupby(['user_id', 'month'])['rounded_duration'].sum().reset_index()\n",
    "\n",
    "# Renome da coluna para um nome mais claro\n",
    "minutes_per_user_month.rename(columns={'rounded_duration': 'total_minutes'}, inplace=True)\n",
    "\n",
    "# Resultado\n",
    "print(minutes_per_user_month.head())"
   ]
  },
  {
   "cell_type": "code",
   "execution_count": 20,
   "metadata": {
    "id": "MaM_cPxauj8q",
    "trusted": false
   },
   "outputs": [
    {
     "name": "stdout",
     "output_type": "stream",
     "text": [
      "   user_id    month  total_messages\n",
      "0     1000  2018-12              11\n",
      "1     1001  2018-08              30\n",
      "2     1001  2018-09              44\n",
      "3     1001  2018-10              53\n",
      "4     1001  2018-11              36\n"
     ]
    }
   ],
   "source": [
    "# Calculando o número de mensagens enviadas por cada usuário por mês\n",
    "\n",
    "# Criando uma coluna 'month' para armazenar o ano e mês (YYYY-MM)\n",
    "messages['month'] = messages['message_date'].dt.to_period('M')\n",
    "\n",
    "# Calculo do número de mensagens enviadas por cada usuário por mês\n",
    "messages_per_user_month = messages.groupby(['user_id', 'month'])['id'].count().reset_index()\n",
    "\n",
    "# Renome da coluna para um nome mais claro\n",
    "messages_per_user_month.rename(columns={'id': 'total_messages'}, inplace=True)\n",
    "\n",
    "# Resultado\n",
    "print(messages_per_user_month.head())"
   ]
  },
  {
   "cell_type": "code",
   "execution_count": 22,
   "metadata": {
    "id": "WsCEZJ_xuj8q",
    "trusted": false
   },
   "outputs": [
    {
     "name": "stdout",
     "output_type": "stream",
     "text": [
      "    user_id    month  total_mb_used\n",
      "0      1000  2018-12        1901.47\n",
      "1      1001  2018-08        6919.15\n",
      "2      1001  2018-09       13314.82\n",
      "3      1001  2018-10       22330.49\n",
      "4      1001  2018-11       18504.30\n",
      "5      1001  2018-12       19369.18\n",
      "6      1002  2018-10        6552.01\n",
      "7      1002  2018-11       19345.08\n",
      "8      1002  2018-12       14396.24\n",
      "9      1003  2018-12       27044.14\n",
      "10     1004  2018-05        6547.21\n",
      "11     1004  2018-06       20672.82\n",
      "12     1004  2018-07       24516.62\n",
      "13     1004  2018-08       27981.74\n",
      "14     1004  2018-09       18852.72\n"
     ]
    }
   ],
   "source": [
    "# Calcule o volume de tráfego de internet usado por cada usuário por mês. Salve o resultado.\n",
    "\n",
    "# Criando uma coluna 'month' para armazenar o ano e mês (YYYY-MM)\n",
    "internet['month'] = internet['session_date'].dt.to_period('M')\n",
    "\n",
    "# Calculo do volume de tráfego de internet usado por cada usuário por mês\n",
    "internet_usage_per_user_month = internet.groupby(['user_id', 'month'])['mb_used'].sum().reset_index()\n",
    "\n",
    "# Renome da coluna para um nome mais claro\n",
    "internet_usage_per_user_month.rename(columns={'mb_used': 'total_mb_used'}, inplace=True)\n",
    "\n",
    "# Resultado\n",
    "print(internet_usage_per_user_month.head(15))"
   ]
  },
  {
   "cell_type": "markdown",
   "metadata": {
    "id": "6nBsD4hduj8q"
   },
   "source": [
    "Conectando os filtros criados e os dados agregados em um DataFrame para que cada registro nele represente o que cada usuário consumiu em um determinado mês"
   ]
  },
  {
   "cell_type": "code",
   "execution_count": 23,
   "metadata": {
    "id": "BYDTkxOauj8r",
    "trusted": false
   },
   "outputs": [
    {
     "name": "stdout",
     "output_type": "stream",
     "text": [
      "   user_id    month  calls_count  total_minutes  total_messages  \\\n",
      "0     1000  2018-12         16.0          124.0            11.0   \n",
      "1     1001  2018-08         27.0          182.0            30.0   \n",
      "2     1001  2018-09         49.0          315.0            44.0   \n",
      "3     1001  2018-10         65.0          393.0            53.0   \n",
      "4     1001  2018-11         64.0          426.0            36.0   \n",
      "\n",
      "   total_internet_mb  \n",
      "0            1901.47  \n",
      "1            6919.15  \n",
      "2           13314.82  \n",
      "3           22330.49  \n",
      "4           18504.30  \n"
     ]
    }
   ],
   "source": [
    "# Juntando os dados de chamadas, minutos, mensagens e internet com base em user_id e month\n",
    "\n",
    "# Merges sequenciais para juntar as tabelas\n",
    "\n",
    "combined_data = calls_per_user_month.merge(\n",
    "    minutes_per_user_month, on=['user_id', 'month'], how='outer'\n",
    ").merge(\n",
    "    messages_per_user_month, on=['user_id', 'month'], how='outer'\n",
    ").merge(\n",
    "    internet_usage_per_user_month, on=['user_id', 'month'], how='outer'\n",
    ")\n",
    "\n",
    "\n",
    "# Renome das colunas \n",
    "\n",
    "combined_data.rename(columns={\n",
    "    'num_calls': 'total_calls',\n",
    "    'total_duration': 'total_minutes',\n",
    "    'num_messages': 'total_messages',\n",
    "    'total_mb_used': 'total_internet_mb'\n",
    "}, inplace=True)\n",
    "\n",
    "# Amostra do DataFrame final\n",
    "print(combined_data.head())"
   ]
  },
  {
   "cell_type": "code",
   "execution_count": 25,
   "metadata": {
    "id": "SW-sgLaHuj8r",
    "trusted": false
   },
   "outputs": [
    {
     "name": "stdout",
     "output_type": "stream",
     "text": [
      "Colunas finais de combined_data: Index(['user_id', 'month', 'calls_count', 'total_minutes', 'total_messages',\n",
      "       'total_internet_mb', 'first_name', 'last_name', 'age', 'city',\n",
      "       'reg_date', 'plan', 'churn_date', 'messages_included',\n",
      "       'mb_per_month_included', 'minutes_included', 'usd_monthly_pay',\n",
      "       'usd_per_gb', 'usd_per_message', 'usd_per_minute', 'plan_name'],\n",
      "      dtype='object')\n"
     ]
    }
   ],
   "source": [
    "# Adicione as informações sobre o plano\n",
    "\n",
    "# Adicionando informações do plano ao combined_data\n",
    "\n",
    "combined_data = combined_data.merge(\n",
    "    users, on='user_id', how='left'\n",
    ").merge(\n",
    "    plans, left_on='plan', right_on='plan_name', how='left'\n",
    ")\n",
    "\n",
    "# Confirmando as colunas após os merges adicionais\n",
    "print(\"Colunas finais de combined_data:\", combined_data.columns)\n"
   ]
  },
  {
   "cell_type": "markdown",
   "metadata": {
    "id": "mU8dKHTQuj8r"
   },
   "source": [
    "Calculando a receita mensal para cada usuário"
   ]
  },
  {
   "cell_type": "code",
   "execution_count": 26,
   "metadata": {
    "id": "JiPHXbQAuj8r",
    "trusted": false
   },
   "outputs": [
    {
     "name": "stdout",
     "output_type": "stream",
     "text": [
      "   user_id      plan  monthly_revenue\n",
      "0     1000  ultimate        70.000000\n",
      "1     1001      surf        20.000000\n",
      "2     1001      surf        20.000000\n",
      "3     1001      surf        88.161191\n",
      "4     1001      surf        50.706055\n"
     ]
    }
   ],
   "source": [
    "# Calculando a receita mensal\n",
    "def calculate_revenue(row):\n",
    "    extra_minutes = max(0, row['total_minutes'] - row['minutes_included'])\n",
    "    extra_messages = max(0, row['total_messages'] - row['messages_included'])\n",
    "    extra_mb_used = max(0, row['total_internet_mb'] - row['mb_per_month_included'])\n",
    "    \n",
    "    total_revenue = (\n",
    "        row['usd_monthly_pay'] +\n",
    "        extra_minutes * row['usd_per_minute'] +\n",
    "        extra_messages * row['usd_per_message'] +\n",
    "        extra_mb_used * row['usd_per_gb'] / 1024  # Convertendo MB para GB\n",
    "    )\n",
    "    return total_revenue\n",
    "\n",
    "# Aplicando a função\n",
    "combined_data['monthly_revenue'] = combined_data.apply(calculate_revenue, axis=1)\n",
    "\n",
    "# Visualizando o resultado\n",
    "print(combined_data[['user_id', 'plan', 'monthly_revenue']].head())\n",
    "\n"
   ]
  },
  {
   "cell_type": "markdown",
   "metadata": {
    "id": "0HFWXKTQuj8r"
   },
   "source": [
    "## Estudando o comportamento do usuário"
   ]
  },
  {
   "cell_type": "markdown",
   "metadata": {
    "id": "umaMfSLxuj8s"
   },
   "source": [
    "### Chamadas"
   ]
  },
  {
   "cell_type": "code",
   "execution_count": 27,
   "metadata": {
    "id": "0236-tJnuj8t",
    "trusted": false
   },
   "outputs": [
    {
     "data": {
      "image/png": "[encoded data removed]",
      "text/plain": [
       "<Figure size 1200x600 with 1 Axes>"
      ]
     },
     "metadata": {},
     "output_type": "display_data"
    }
   ],
   "source": [
    "# Comparando a duração média das chamadas de cada plano para cada mês\n",
    "\n",
    "# Calcular a duração média das chamadas por plano e por mês\n",
    "avg_calls_duration = combined_data.groupby(['plan', 'month'])['total_minutes'].mean().reset_index()\n",
    "\n",
    "# Renomear a coluna para maior clareza\n",
    "avg_calls_duration.rename(columns={'total_minutes': 'avg_minutes'}, inplace=True)\n",
    "\n",
    "# Configurar o estilo do gráfico\n",
    "sns.set(style='whitegrid')\n",
    "\n",
    "# Criar o gráfico de barras\n",
    "plt.figure(figsize=(12, 6))\n",
    "sns.barplot(\n",
    "    data=avg_calls_duration,\n",
    "    x='month', y='avg_minutes', hue='plan', palette='muted'\n",
    ")\n",
    "\n",
    "# Adicionar título e rótulos\n",
    "plt.title('Duração Média das Chamadas por Plano e por Mês', fontsize=16)\n",
    "plt.xlabel('Mês', fontsize=12)\n",
    "plt.ylabel('Duração Média das Chamadas (minutos)', fontsize=12)\n",
    "plt.legend(title='Plano', fontsize=10)\n",
    "plt.show()\n"
   ]
  },
  {
   "cell_type": "code",
   "execution_count": 28,
   "metadata": {
    "id": "9sCQ1lP8uj8u",
    "trusted": false
   },
   "outputs": [
    {
     "data": {
      "image/png": "[encoded data removed]",
      "text/plain": [
       "<Figure size 1200x600 with 1 Axes>"
      ]
     },
     "metadata": {},
     "output_type": "display_data"
    }
   ],
   "source": [
    "# Comparando o número de minutos que os usuários de cada plano necessitam a cada mês\n",
    "\n",
    "# Calculando os minutos extras para cada usuário, se houver\n",
    "combined_data['extra_minutes'] = combined_data['total_minutes'] - combined_data['minutes_included']\n",
    "combined_data['extra_minutes'] = combined_data['extra_minutes'].apply(lambda x: max(x, 0))  # Garantir que não será negativo\n",
    "\n",
    "# Criando o gráfico de histograma para comparar os minutos extras por plano\n",
    "plt.figure(figsize=(12, 6))\n",
    "sns.histplot(data=combined_data, x='extra_minutes', hue='plan', palette='muted', bins=30)\n",
    "\n",
    "# Adicionando título e rótulos aos eixos\n",
    "plt.title('Distribuição dos Minutos Extras por Plano', fontsize=16)\n",
    "plt.xlabel('Minutos Extras Utilizados', fontsize=12)\n",
    "plt.ylabel('Número de Usuários', fontsize=12)\n",
    "\n",
    "# Mostrar o gráfico\n",
    "plt.show()"
   ]
  },
  {
   "cell_type": "markdown",
   "metadata": {
    "id": "_x1pRDFtuj8u"
   },
   "source": [
    "Calculando a média e a variância da duração das chamadas. Objetivo é refletir se os usuários de cada plano possuem comportamentos diferentes sobre as chamadas."
   ]
  },
  {
   "cell_type": "code",
   "execution_count": 29,
   "metadata": {
    "id": "cIdodPExuj8u",
    "trusted": false
   },
   "outputs": [
    {
     "name": "stdout",
     "output_type": "stream",
     "text": [
      "          average_duration  variance_duration\n",
      "plan                                         \n",
      "surf            436.519741       52571.063243\n",
      "ultimate        434.676017       56573.632247\n"
     ]
    }
   ],
   "source": [
    "# Calculando a média e a variância da duração mensal das chamadas\n",
    "\n",
    "# Calcular a média e a variância da duração das chamadas para cada plano\n",
    "call_stats = combined_data.groupby('plan')['total_minutes'].agg(['mean', 'var'])\n",
    "\n",
    "# Renomeando as colunas para facilitar a leitura\n",
    "call_stats.rename(columns={'mean': 'average_duration', 'var': 'variance_duration'}, inplace=True)\n",
    "\n",
    "# Exibir os resultados\n",
    "print(call_stats)\n"
   ]
  },
  {
   "cell_type": "code",
   "execution_count": 31,
   "metadata": {
    "id": "DW7vTypxuj8u",
    "trusted": false
   },
   "outputs": [
    {
     "data": {
      "image/png": "[encoded data removed]",
      "text/plain": [
       "<Figure size 1200x600 with 1 Axes>"
      ]
     },
     "metadata": {},
     "output_type": "display_data"
    }
   ],
   "source": [
    "# Faça um diagrama de caixa para visualizar a distribuição da duração mensal das chamadas\n",
    "\n",
    "# Criando o gráfico de boxplot para a distribuição da duração mensal das chamadas por plano\n",
    "plt.figure(figsize=(12, 6))\n",
    "sns.boxplot(data=combined_data, x='plan', y='total_minutes', palette='muted')\n",
    "\n",
    "# Adicionando título e rótulos\n",
    "plt.title('Distribuição da Duração Mensal das Chamadas por Plano', fontsize=16)\n",
    "plt.xlabel('Plano', fontsize=12)\n",
    "plt.ylabel('Duração das Chamadas (minutos)', fontsize=12)\n",
    "\n",
    "# Exibir o gráfico\n",
    "plt.show()\n"
   ]
  },
  {
   "cell_type": "markdown",
   "metadata": {
    "id": "Uyt3rWn7uj8u"
   },
   "source": [
    "Com os filtros e diagramas que crie, posso concluir que existe uma equiparidade entre os dois planos tendo uma pequena diferença para o plano Surf. Inclusive no diagrama de caixa acima, vemos valores atipicos nos dois planos, com uma leve vantagem para o plano Surf."
   ]
  },
  {
   "cell_type": "markdown",
   "metadata": {
    "id": "2hWSPtrnuj8v"
   },
   "source": [
    "### Mensagens"
   ]
  },
  {
   "cell_type": "code",
   "execution_count": 30,
   "metadata": {
    "id": "9kPlAhOJuj8v",
    "trusted": false
   },
   "outputs": [
    {
     "data": {
      "image/png": "[encoded data removed]",
      "text/plain": [
       "<Figure size 1200x600 with 1 Axes>"
      ]
     },
     "metadata": {},
     "output_type": "display_data"
    }
   ],
   "source": [
    "# Comparando o número de mensagens que os usuários de cada plano costumam enviar a cada mês\n",
    "\n",
    "# Criando o histograma para o número de mensagens por plano\n",
    "plt.figure(figsize=(12, 6))\n",
    "sns.histplot(data=combined_data, x='total_messages', hue='plan', kde=True, bins=30, palette='muted')\n",
    "\n",
    "# Adicionando título e rótulos\n",
    "plt.title('Distribuição do Número de Mensagens por Plano', fontsize=16)\n",
    "plt.xlabel('Número de Mensagens', fontsize=12)\n",
    "plt.ylabel('Frequência', fontsize=12)\n",
    "\n",
    "# Exibir o gráfico\n",
    "plt.show()"
   ]
  },
  {
   "cell_type": "markdown",
   "metadata": {
    "id": "v6QELMtcuj8v"
   },
   "source": [
    "**Em relação ao numero de mensagens x a frequência, encontramos mais discrepância nos dados. Percebe-se que até 60 mensagens o plano Surf parece muito acima do outro plano. A frequência de uso é maior no plano Surf.**  "
   ]
  },
  {
   "cell_type": "markdown",
   "metadata": {
    "id": "nHUCwAnauj8w"
   },
   "source": [
    "### Internet"
   ]
  },
  {
   "cell_type": "code",
   "execution_count": 31,
   "metadata": {
    "id": "Detb0wIZuj8w",
    "trusted": false
   },
   "outputs": [
    {
     "data": {
      "image/png": "[encoded data removed]",
      "text/plain": [
       "<Figure size 1200x600 with 1 Axes>"
      ]
     },
     "metadata": {},
     "output_type": "display_data"
    }
   ],
   "source": [
    "# Histograma para o consumo de internet por plano\n",
    "plt.figure(figsize=(12, 6))\n",
    "sns.histplot(data=combined_data, x='total_internet_mb', hue='plan', kde=True, bins=30, palette='muted')\n",
    "\n",
    "# Adicionar título e rótulos\n",
    "plt.title('Distribuição do Consumo de Internet por Plano', fontsize=16)\n",
    "plt.xlabel('Tráfego de Internet Consumido (MB)', fontsize=12)\n",
    "plt.ylabel('Frequência', fontsize=12)\n",
    "\n",
    "# Exibir o gráfico\n",
    "plt.show()"
   ]
  },
  {
   "cell_type": "markdown",
   "metadata": {
    "id": "GsHkFpGmuj8w"
   },
   "source": [
    "**Sobre o consumo de internet nos dois planos, o plano Surf usa com mais frequêquencia que o outro plano. Podemos observar no pico do grafico que o plano Surf usa mais que o dobro que o outro plano.**"
   ]
  },
  {
   "cell_type": "markdown",
   "metadata": {
    "id": "g23qXaYNuj8x"
   },
   "source": [
    "## Receita"
   ]
  },
  {
   "cell_type": "markdown",
   "metadata": {
    "id": "qI9oKXFZuj8y"
   },
   "source": [
    "Interessante verificar as receitas dos planos de forma estatística."
   ]
  },
  {
   "cell_type": "code",
   "execution_count": 32,
   "metadata": {
    "id": "CGuBwYRyuj8y",
    "trusted": false
   },
   "outputs": [
    {
     "name": "stdout",
     "output_type": "stream",
     "text": [
      "           count       mean        std   min   25%        50%        75%  \\\n",
      "plan                                                                       \n",
      "surf      1573.0  57.672846  53.860388  20.0  20.0  37.383477  77.120605   \n",
      "ultimate   720.0  72.116080  10.768848  70.0  70.0  70.000000  70.000000   \n",
      "\n",
      "                 max  \n",
      "plan                  \n",
      "surf      583.061309  \n",
      "ultimate  178.522764  \n"
     ]
    }
   ],
   "source": [
    "# Estatísticas descritivas sobre a receita mensal por plano\n",
    "revenue_stats = combined_data.groupby('plan')['monthly_revenue'].describe()\n",
    "\n",
    "# Exibir as estatísticas descritivas\n",
    "print(revenue_stats)"
   ]
  },
  {
   "cell_type": "code",
   "execution_count": 33,
   "metadata": {
    "id": "qJSyfvUguj8y",
    "trusted": false
   },
   "outputs": [
    {
     "data": {
      "image/png": "[encoded data removed]",
      "text/plain": [
       "<Figure size 1200x600 with 1 Axes>"
      ]
     },
     "metadata": {},
     "output_type": "display_data"
    }
   ],
   "source": [
    "# Histograma para a receita mensal por plano\n",
    "plt.figure(figsize=(12, 6))\n",
    "sns.histplot(data=combined_data, x='monthly_revenue', hue='plan', kde=True, bins=30, palette='muted')\n",
    "\n",
    "# Adicionar título e rótulos\n",
    "plt.title('Distribuição da Receita Mensal por Plano', fontsize=16)\n",
    "plt.xlabel('Receita Mensal (USD)', fontsize=12)\n",
    "plt.ylabel('Frequência', fontsize=12)\n",
    "\n",
    "# Exibir o gráfico\n",
    "plt.show()"
   ]
  },
  {
   "cell_type": "code",
   "execution_count": 37,
   "metadata": {
    "id": "KUSxMW71uj8z",
    "trusted": false
   },
   "outputs": [
    {
     "name": "stdout",
     "output_type": "stream",
     "text": [
      "['Atlanta-Sandy Springs-Roswell, GA MSA' 'Seattle-Tacoma-Bellevue, WA MSA'\n",
      " 'Las Vegas-Henderson-Paradise, NV MSA' 'Tulsa, OK MSA'\n",
      " 'Dallas-Fort Worth-Arlington, TX MSA'\n",
      " 'San Francisco-Oakland-Berkeley, CA MSA' 'Grand Rapids-Kentwood, MI MSA'\n",
      " 'Orlando-Kissimmee-Sanford, FL MSA'\n",
      " 'San Jose-Sunnyvale-Santa Clara, CA MSA' 'Cleveland-Elyria, OH MSA'\n",
      " 'Chicago-Naperville-Elgin, IL-IN-WI MSA' 'Knoxville, TN MSA'\n",
      " 'New York-Newark-Jersey City, NY-NJ-PA MSA' 'Pittsburgh, PA MSA'\n",
      " 'Fresno, CA MSA' 'Washington-Arlington-Alexandria, DC-VA-MD-WV MSA'\n",
      " 'Indianapolis-Carmel-Anderson, IN MSA' 'Jacksonville, FL MSA'\n",
      " 'Los Angeles-Long Beach-Anaheim, CA MSA'\n",
      " 'Omaha-Council Bluffs, NE-IA MSA'\n",
      " 'Houston-The Woodlands-Sugar Land, TX MSA'\n",
      " 'Philadelphia-Camden-Wilmington, PA-NJ-DE-MD MSA'\n",
      " 'Tampa-St. Petersburg-Clearwater, FL MSA' 'Birmingham-Hoover, AL MSA'\n",
      " 'Oklahoma City, OK MSA' 'Charlotte-Concord-Gastonia, NC-SC MSA'\n",
      " 'Denver-Aurora-Lakewood, CO MSA'\n",
      " 'Nashville-Davidson–Murfreesboro–Franklin, TN MSA' 'Columbus, OH MSA'\n",
      " 'Albuquerque, NM MSA' 'Boston-Cambridge-Newton, MA-NH MSA'\n",
      " 'Miami-Fort Lauderdale-West Palm Beach, FL MSA'\n",
      " 'San Diego-Chula Vista-Carlsbad, CA MSA' 'Phoenix-Mesa-Chandler, AZ MSA'\n",
      " 'Portland-Vancouver-Hillsboro, OR-WA MSA' 'Cincinnati, OH-KY-IN MSA'\n",
      " 'Columbia, SC MSA' 'San Antonio-New Braunfels, TX MSA'\n",
      " 'Buffalo-Cheektowaga, NY MSA' 'Memphis, TN-MS-AR MSA'\n",
      " 'Riverside-San Bernardino-Ontario, CA MSA'\n",
      " 'Louisville/Jefferson County, KY-IN MSA'\n",
      " 'Albany-Schenectady-Troy, NY MSA' 'Providence-Warwick, RI-MA MSA'\n",
      " 'Urban Honolulu, HI MSA' 'El Paso, TX MSA' 'New Haven-Milford, CT MSA'\n",
      " 'North Port-Sarasota-Bradenton, FL MSA' 'New Orleans-Metairie, LA MSA'\n",
      " 'Bridgeport-Stamford-Norwalk, CT MSA'\n",
      " 'Virginia Beach-Norfolk-Newport News, VA-NC MSA'\n",
      " 'Baltimore-Columbia-Towson, MD MSA' 'Milwaukee-Waukesha, WI MSA'\n",
      " 'Oxnard-Thousand Oaks-Ventura, CA MSA'\n",
      " 'Sacramento–Roseville–Folsom, CA MSA'\n",
      " 'Austin-Round Rock-Georgetown, TX MSA' 'Richmond, VA MSA'\n",
      " 'St. Louis, MO-IL MSA' 'Minneapolis-St. Paul-Bloomington, MN-WI MSA'\n",
      " 'Dayton-Kettering, OH MSA' 'Bakersfield, CA MSA'\n",
      " 'Detroit-Warren-Dearborn, MI MSA' 'Baton Rouge, LA MSA'\n",
      " 'Kansas City, MO-KS MSA' 'Charleston-North Charleston, SC MSA'\n",
      " 'Rochester, NY MSA' 'Raleigh-Cary, NC MSA'\n",
      " 'Greensboro-High Point, NC MSA' 'Tucson, AZ MSA'\n",
      " 'Colorado Springs, CO MSA' 'Stockton, CA MSA' 'Salt Lake City, UT MSA'\n",
      " 'Cape Coral-Fort Myers, FL MSA']\n"
     ]
    }
   ],
   "source": [
    "# Exibir os valores únicos da coluna 'city'\n",
    "print(combined_data['city'].unique())"
   ]
  },
  {
   "cell_type": "markdown",
   "metadata": {
    "id": "6X34EwHpuj8z"
   },
   "source": [
    "**Em relação a receita dos dois planos, embora tenha mais clientes com o plano mais barato que é Surf, esses clientes tem a tendencia de comprar mais pacotes extras durante o mês de chamadas, mensagens e internet fazendo com que a receita aumente com esse plano. Ja o plano Ultimate não constuma exceder seu pacote básico do mês.**"
   ]
  },
  {
   "cell_type": "markdown",
   "metadata": {
    "id": "xJ6Mu-KAuj8z"
   },
   "source": [
    "## Teste hipóteses estatísticas"
   ]
  },
  {
   "cell_type": "markdown",
   "metadata": {
    "id": "lop_0j4Duj8z"
   },
   "source": [
    "Testando a hipótese de que a receita média dos usuários dos planos Ultimate e Surf são diferentes."
   ]
  },
  {
   "cell_type": "code",
   "execution_count": 34,
   "metadata": {
    "id": "LyGrPhpUuj80",
    "trusted": false
   },
   "outputs": [
    {
     "name": "stdout",
     "output_type": "stream",
     "text": [
      "Teste de Levene (variâncias): Estatística = 366.06, p-valor = 0.00000\n",
      "Estatística t: 10.20\n",
      "Valor-p: 0.00000\n",
      "Rejeitamos a hipótese nula: as receitas médias dos planos são diferentes.\n",
      "O teste T foi realizado assumindo variâncias diferentes.\n"
     ]
    }
   ],
   "source": [
    "# Teste as hipóteses\n",
    "\n",
    "# Separar as receitas dos dois grupos\n",
    "revenue_ultimate = combined_data.loc[combined_data['plan'] == 'ultimate', 'monthly_revenue']\n",
    "revenue_surf = combined_data.loc[combined_data['plan'] == 'surf', 'monthly_revenue']\n",
    "\n",
    "alpha = 0.05\n",
    "\n",
    "# Avaliar a igualdade das variâncias usando o teste de Levene\n",
    "stat, p_var = levene(revenue_ultimate, revenue_surf)\n",
    "\n",
    "print(f\"Teste de Levene (variâncias): Estatística = {stat:.2f}, p-valor = {p_var:.5f}\")\n",
    "\n",
    "# Decisão sobre a igualdade de variâncias\n",
    "equal_var = p_var > alpha\n",
    "\n",
    "# Realizar o teste t para amostras independentes\n",
    "t_stat, p_value = ttest_ind(revenue_ultimate, revenue_surf, equal_var=equal_var)\n",
    "\n",
    "# Exibir os resultados\n",
    "print(f\"Estatística t: {t_stat:.2f}\")\n",
    "print(f\"Valor-p: {p_value:.5f}\")\n",
    "\n",
    "# Conclusão baseada no valor-p\n",
    "if p_value < alpha:\n",
    "    print(\"Rejeitamos a hipótese nula: as receitas médias dos planos são diferentes.\")\n",
    "else:\n",
    "    print(\"Não rejeitamos a hipótese nula: não há evidências de diferença nas receitas médias dos planos.\")\n",
    "\n",
    "# Indicar se as variâncias foram consideradas iguais ou diferentes\n",
    "if equal_var:\n",
    "    print(\"O teste T foi realizado assumindo variâncias iguais.\")\n",
    "else:\n",
    "    print(\"O teste T foi realizado assumindo variâncias diferentes.\")\n"
   ]
  },
  {
   "cell_type": "markdown",
   "metadata": {
    "id": "Cz6rwE56uj80"
   },
   "source": [
    "Testando a hipótese de que a receita média dos usuários da área de NY-NJ difere dos usuários das demais regiões."
   ]
  },
  {
   "cell_type": "code",
   "execution_count": 35,
   "metadata": {
    "id": "98t8iiJyuj80",
    "trusted": false
   },
   "outputs": [
    {
     "name": "stdout",
     "output_type": "stream",
     "text": [
      "Teste de Levene (variâncias): Estatística = 1.32, p-valor = 0.25009\n",
      "As variâncias são iguais, usaremos equal_var=True no teste t.\n",
      "Teste t: Estatística t = -2.20, p-valor = 0.02808\n",
      "Rejeitamos a hipótese nula: as receitas médias de NY-NJ e outras regiões são diferentes.\n"
     ]
    }
   ],
   "source": [
    "# Teste as hipóteses\n",
    "\n",
    "# Filtrar os dados com str.contains para considerar NY-NJ\n",
    "revenue_ny_nj = combined_data.loc[combined_data['city'].str.contains('NY-NJ', na=False), 'monthly_revenue']\n",
    "revenue_other_regions = combined_data.loc[~combined_data['city'].str.contains('NY-NJ', na=False), 'monthly_revenue']\n",
    "\n",
    "alpha = 0.05\n",
    "\n",
    "# Avaliar a igualdade das variâncias usando o teste de Levene\n",
    "stat, p_var = levene(revenue_ny_nj, revenue_other_regions)\n",
    "\n",
    "print(f\"Teste de Levene (variâncias): Estatística = {stat:.2f}, p-valor = {p_var:.5f}\")\n",
    "\n",
    "# Decisão sobre a igualdade de variâncias\n",
    "equal_var = p_var >= alpha\n",
    "\n",
    "if equal_var:\n",
    "    print(\"As variâncias são iguais, usaremos equal_var=True no teste t.\")\n",
    "else:\n",
    "    print(\"As variâncias são diferentes, usaremos equal_var=False no teste t.\")\n",
    "\n",
    "# Realizar o teste t para amostras independentes\n",
    "t_stat, p_value = ttest_ind(revenue_ny_nj, revenue_other_regions, equal_var=equal_var)\n",
    "\n",
    "# Exibir os resultados do teste t\n",
    "print(f\"Teste t: Estatística t = {t_stat:.2f}, p-valor = {p_value:.5f}\")\n",
    "\n",
    "# Conclusão baseada no valor-p\n",
    "if p_value < alpha:\n",
    "    print(\"Rejeitamos a hipótese nula: as receitas médias de NY-NJ e outras regiões são diferentes.\")\n",
    "else:\n",
    "    print(\"Não rejeitamos a hipótese nula: não há evidências de diferença nas receitas médias.\")"
   ]
  },
  {
   "cell_type": "markdown",
   "metadata": {
    "id": "M8WycwWFuj81"
   },
   "source": [
    "## Conclusão geral\n",
    "\n",
    "**A análise de uma amostragem de clientes dos dois planos da empresa revelou que o plano Ultimate gera mais receita devido ao preço mais elevado e aos benefícios adicionais. Por outro lado, o plano Surf, por ser mais acessível, atrai uma clientela jovem que utiliza os recursos com maior intensidade e, frequentemente, precisa adquirir pacotes extras durante o mês. A venda extra de pacotes também gera uma importante receita** \n",
    "\n",
    "**Em uma análise específica da região de NY-NJ, identificou-se uma diferença significativa em relação às demais regiões(receita abaixa ao restante do mercado). Recomenda-se um estudo detalhado do perfil dos usuários nessa área para avaliar possíveis ajustes em estratégias de marketing ou preços.**\n",
    "\n",
    "**Embora o plano Ultimate seja mais rentável, o plano Surf desempenha um papel fundamental ao atender a um público com necessidades específicas, como maior consumo de dados e demanda por pacotes adicionais.** "
   ]
  },
  {
   "cell_type": "markdown",
   "metadata": {},
   "source": []
  }
 ],
 "metadata": {
  "ExecuteTimeLog": [
   {
    "duration": 828,
    "start_time": "2021-11-16T09:21:11.304Z"
   },
   {
    "duration": 893,
    "start_time": "2021-11-16T09:21:17.728Z"
   },
   {
    "duration": 1150,
    "start_time": "2021-11-16T09:21:29.568Z"
   },
   {
    "duration": 3,
    "start_time": "2021-11-16T09:24:14.495Z"
   },
   {
    "duration": 120,
    "start_time": "2021-11-16T09:24:46.630Z"
   },
   {
    "duration": 3,
    "start_time": "2021-11-16T09:28:27.882Z"
   },
   {
    "duration": 4,
    "start_time": "2021-11-16T09:29:54.281Z"
   },
   {
    "duration": 3,
    "start_time": "2021-11-16T09:30:45.936Z"
   },
   {
    "duration": 4,
    "start_time": "2021-11-16T09:31:06.300Z"
   },
   {
    "duration": 113,
    "start_time": "2021-11-16T09:31:37.208Z"
   },
   {
    "duration": 143,
    "start_time": "2021-11-16T09:31:48.656Z"
   },
   {
    "duration": 98,
    "start_time": "2021-11-16T09:31:55.678Z"
   },
   {
    "duration": 3,
    "start_time": "2021-11-16T09:32:08.535Z"
   },
   {
    "duration": 111,
    "start_time": "2021-11-16T09:32:10.120Z"
   },
   {
    "duration": 3,
    "start_time": "2021-11-16T09:32:15.732Z"
   },
   {
    "duration": 4,
    "start_time": "2021-11-16T09:32:29.423Z"
   },
   {
    "duration": 3,
    "start_time": "2021-11-16T10:03:03.074Z"
   },
   {
    "duration": 3,
    "start_time": "2021-11-16T10:10:01.288Z"
   },
   {
    "duration": 3,
    "start_time": "2021-11-16T10:10:46.923Z"
   },
   {
    "duration": 121,
    "start_time": "2021-11-16T10:37:46.494Z"
   },
   {
    "duration": 125,
    "start_time": "2021-11-16T10:38:20.632Z"
   },
   {
    "duration": 112,
    "start_time": "2021-11-16T10:46:53.001Z"
   },
   {
    "duration": 110,
    "start_time": "2021-11-16T10:48:25.775Z"
   },
   {
    "duration": 3,
    "start_time": "2021-11-16T10:50:18.720Z"
   },
   {
    "duration": 4,
    "start_time": "2021-11-16T10:50:37.649Z"
   },
   {
    "duration": 2,
    "start_time": "2021-11-16T10:50:51.884Z"
   },
   {
    "duration": 3,
    "start_time": "2021-11-16T10:51:56.237Z"
   },
   {
    "duration": 101,
    "start_time": "2021-11-16T10:53:13.791Z"
   },
   {
    "duration": 3,
    "start_time": "2021-11-16T10:55:59.186Z"
   },
   {
    "duration": 3,
    "start_time": "2021-11-16T10:56:10.751Z"
   },
   {
    "duration": 3,
    "start_time": "2021-11-16T10:56:49.038Z"
   },
   {
    "duration": 3,
    "start_time": "2021-11-16T10:56:49.174Z"
   },
   {
    "duration": 4,
    "start_time": "2021-11-16T10:56:49.414Z"
   },
   {
    "duration": 3,
    "start_time": "2021-11-16T10:56:49.680Z"
   },
   {
    "duration": 3,
    "start_time": "2021-11-16T10:56:50.370Z"
   },
   {
    "duration": 114,
    "start_time": "2021-11-16T10:59:34.518Z"
   },
   {
    "duration": 3,
    "start_time": "2021-11-16T11:01:41.201Z"
   },
   {
    "duration": 116,
    "start_time": "2021-11-16T11:01:48.754Z"
   },
   {
    "duration": 3,
    "start_time": "2021-11-16T11:02:16.685Z"
   },
   {
    "duration": 3,
    "start_time": "2021-11-16T11:02:19.479Z"
   },
   {
    "duration": 3,
    "start_time": "2021-11-16T11:02:47.067Z"
   },
   {
    "duration": 3,
    "start_time": "2021-11-16T11:02:49.353Z"
   },
   {
    "duration": 3,
    "start_time": "2021-11-16T11:03:07.835Z"
   },
   {
    "duration": 3,
    "start_time": "2021-11-16T11:03:07.953Z"
   },
   {
    "duration": 112,
    "start_time": "2021-11-16T11:07:52.072Z"
   },
   {
    "duration": 187,
    "start_time": "2021-11-16T11:09:23.468Z"
   },
   {
    "duration": 4,
    "start_time": "2021-11-16T11:10:01.455Z"
   },
   {
    "duration": 3,
    "start_time": "2021-11-16T11:10:05.069Z"
   },
   {
    "duration": 4,
    "start_time": "2021-11-16T11:10:13.376Z"
   },
   {
    "duration": 3,
    "start_time": "2021-11-16T11:10:14.434Z"
   },
   {
    "duration": 3,
    "start_time": "2021-11-16T11:10:22.853Z"
   },
   {
    "duration": 4,
    "start_time": "2021-11-16T11:27:29.279Z"
   },
   {
    "duration": 4,
    "start_time": "2021-11-16T11:29:08.919Z"
   },
   {
    "duration": 118,
    "start_time": "2021-11-16T11:29:46.703Z"
   },
   {
    "duration": 437,
    "start_time": "2021-11-16T11:36:02.181Z"
   },
   {
    "duration": 157,
    "start_time": "2021-11-16T11:36:14.388Z"
   },
   {
    "duration": 207,
    "start_time": "2021-11-16T11:47:15.898Z"
   },
   {
    "duration": 3,
    "start_time": "2021-11-16T11:53:52.092Z"
   },
   {
    "duration": 3,
    "start_time": "2021-11-16T11:53:52.236Z"
   },
   {
    "duration": 3,
    "start_time": "2021-11-16T11:59:12.005Z"
   },
   {
    "duration": 112,
    "start_time": "2021-11-16T12:00:33.446Z"
   },
   {
    "duration": 3,
    "start_time": "2021-11-16T12:02:14.453Z"
   },
   {
    "duration": 3,
    "start_time": "2021-11-16T12:02:39.512Z"
   },
   {
    "duration": 106,
    "start_time": "2021-11-16T12:03:03.460Z"
   },
   {
    "duration": 3,
    "start_time": "2021-11-17T20:37:21.139Z"
   },
   {
    "duration": 3,
    "start_time": "2021-11-17T20:37:22.229Z"
   },
   {
    "duration": 3,
    "start_time": "2021-11-17T20:38:38.806Z"
   },
   {
    "duration": 3,
    "start_time": "2021-11-17T20:38:41.958Z"
   },
   {
    "duration": 3,
    "start_time": "2021-11-17T20:43:46.551Z"
   },
   {
    "duration": 4,
    "start_time": "2021-11-17T20:58:21.835Z"
   },
   {
    "duration": 3,
    "start_time": "2021-11-17T20:59:21.872Z"
   },
   {
    "duration": 4,
    "start_time": "2021-11-17T20:59:45.352Z"
   },
   {
    "duration": 4,
    "start_time": "2021-11-17T20:59:49.646Z"
   },
   {
    "duration": 159,
    "start_time": "2021-11-17T21:02:26.949Z"
   },
   {
    "duration": 3,
    "start_time": "2021-11-17T21:03:53.461Z"
   },
   {
    "duration": 3,
    "start_time": "2021-11-17T21:03:53.694Z"
   },
   {
    "duration": 3,
    "start_time": "2021-11-17T21:05:28.145Z"
   },
   {
    "duration": 116,
    "start_time": "2021-11-17T21:05:57.787Z"
   },
   {
    "duration": 3,
    "start_time": "2021-11-17T21:06:37.993Z"
   },
   {
    "duration": 3,
    "start_time": "2021-11-17T21:06:38.261Z"
   },
   {
    "duration": 3,
    "start_time": "2021-11-17T21:11:54.358Z"
   },
   {
    "duration": 3,
    "start_time": "2021-11-17T21:12:43.846Z"
   },
   {
    "duration": 4,
    "start_time": "2021-11-17T21:13:08.773Z"
   },
   {
    "duration": 3,
    "start_time": "2021-11-17T21:14:44.441Z"
   },
   {
    "duration": 3,
    "start_time": "2021-11-17T21:15:42.059Z"
   },
   {
    "duration": 4,
    "start_time": "2021-11-17T21:15:51.995Z"
   },
   {
    "duration": 3,
    "start_time": "2021-11-17T21:15:53.923Z"
   },
   {
    "duration": 3,
    "start_time": "2021-11-17T21:15:55.282Z"
   },
   {
    "duration": 3,
    "start_time": "2021-11-17T21:16:28.492Z"
   },
   {
    "duration": 3,
    "start_time": "2021-11-17T21:16:32.603Z"
   },
   {
    "duration": 3,
    "start_time": "2021-11-17T21:17:06.941Z"
   },
   {
    "duration": 98,
    "start_time": "2021-11-17T21:18:05.733Z"
   },
   {
    "duration": 4,
    "start_time": "2021-11-17T21:21:35.255Z"
   },
   {
    "duration": 3,
    "start_time": "2021-11-17T21:21:37.804Z"
   },
   {
    "duration": 4,
    "start_time": "2021-11-17T21:23:06.071Z"
   },
   {
    "duration": 3,
    "start_time": "2021-11-17T21:23:24.799Z"
   },
   {
    "duration": 3,
    "start_time": "2021-11-17T21:23:32.591Z"
   },
   {
    "duration": 98,
    "start_time": "2021-11-17T21:28:31.559Z"
   },
   {
    "duration": 3,
    "start_time": "2021-11-17T21:28:45.448Z"
   },
   {
    "duration": 3,
    "start_time": "2021-11-17T21:29:17.303Z"
   },
   {
    "duration": 3,
    "start_time": "2021-11-17T21:29:29.617Z"
   },
   {
    "duration": 3,
    "start_time": "2021-11-17T21:29:32.681Z"
   },
   {
    "duration": 3,
    "start_time": "2021-11-17T21:36:11.474Z"
   },
   {
    "duration": 3,
    "start_time": "2021-11-17T21:36:14.791Z"
   },
   {
    "duration": 3,
    "start_time": "2021-11-17T21:36:53.943Z"
   },
   {
    "duration": 3,
    "start_time": "2021-11-17T21:36:56.165Z"
   },
   {
    "duration": 4,
    "start_time": "2021-11-17T21:37:16.590Z"
   },
   {
    "duration": 3,
    "start_time": "2021-11-17T21:37:22.702Z"
   },
   {
    "duration": 4,
    "start_time": "2021-11-17T21:38:03.479Z"
   },
   {
    "duration": 3,
    "start_time": "2021-11-17T21:38:08.601Z"
   },
   {
    "duration": 3,
    "start_time": "2021-11-17T21:38:12.928Z"
   },
   {
    "duration": 3,
    "start_time": "2021-11-17T21:38:48.896Z"
   },
   {
    "duration": 2,
    "start_time": "2021-11-17T21:38:49.171Z"
   },
   {
    "duration": 4,
    "start_time": "2021-11-17T21:39:57.889Z"
   },
   {
    "duration": 3,
    "start_time": "2021-11-17T21:39:58.057Z"
   },
   {
    "duration": 3,
    "start_time": "2021-11-17T21:41:20.108Z"
   },
   {
    "duration": 3,
    "start_time": "2021-11-17T21:41:20.629Z"
   },
   {
    "duration": 3,
    "start_time": "2021-11-17T21:42:49.136Z"
   },
   {
    "duration": 3,
    "start_time": "2021-11-17T21:43:15.137Z"
   },
   {
    "duration": 4,
    "start_time": "2021-11-17T21:43:16.766Z"
   },
   {
    "duration": 4,
    "start_time": "2021-11-17T21:43:31.711Z"
   },
   {
    "duration": 3,
    "start_time": "2021-11-17T21:43:36.312Z"
   },
   {
    "duration": 4,
    "start_time": "2021-11-17T21:45:08.825Z"
   },
   {
    "duration": 4,
    "start_time": "2021-11-17T21:45:10.119Z"
   },
   {
    "duration": 4,
    "start_time": "2021-11-17T21:45:13.748Z"
   },
   {
    "duration": 3,
    "start_time": "2021-11-17T21:45:22.219Z"
   },
   {
    "duration": 3,
    "start_time": "2021-11-17T21:45:33.412Z"
   },
   {
    "duration": 2,
    "start_time": "2021-11-17T21:46:01.885Z"
   },
   {
    "duration": 3,
    "start_time": "2021-11-17T21:46:03.628Z"
   },
   {
    "duration": 107,
    "start_time": "2021-11-17T21:47:32.512Z"
   },
   {
    "duration": 103,
    "start_time": "2021-11-17T21:50:36.243Z"
   },
   {
    "duration": 3,
    "start_time": "2021-11-18T06:28:31.440Z"
   },
   {
    "duration": 3,
    "start_time": "2021-11-18T06:29:00.168Z"
   },
   {
    "duration": 3,
    "start_time": "2021-11-18T06:31:27.008Z"
   },
   {
    "duration": 2,
    "start_time": "2021-11-18T06:35:34.288Z"
   },
   {
    "duration": 2,
    "start_time": "2021-11-18T06:38:04.527Z"
   },
   {
    "duration": 182,
    "start_time": "2024-12-11T20:13:08.738Z"
   },
   {
    "duration": 277,
    "start_time": "2024-12-11T20:13:38.459Z"
   },
   {
    "duration": 213,
    "start_time": "2024-12-11T20:13:42.024Z"
   },
   {
    "duration": 9,
    "start_time": "2024-12-11T20:14:51.432Z"
   },
   {
    "duration": 6,
    "start_time": "2024-12-11T20:15:02.229Z"
   },
   {
    "duration": 5,
    "start_time": "2024-12-11T20:15:12.935Z"
   },
   {
    "duration": 287,
    "start_time": "2024-12-12T12:02:31.726Z"
   },
   {
    "duration": 212,
    "start_time": "2024-12-12T12:02:34.689Z"
   },
   {
    "duration": 9,
    "start_time": "2024-12-12T12:02:42.103Z"
   },
   {
    "duration": 7,
    "start_time": "2024-12-12T12:02:45.954Z"
   },
   {
    "duration": 8,
    "start_time": "2024-12-12T12:02:54.006Z"
   },
   {
    "duration": 5,
    "start_time": "2024-12-12T12:02:59.327Z"
   },
   {
    "duration": 15,
    "start_time": "2024-12-12T12:03:11.841Z"
   },
   {
    "duration": 4,
    "start_time": "2024-12-12T12:03:14.304Z"
   },
   {
    "duration": 12,
    "start_time": "2024-12-12T12:03:18.916Z"
   },
   {
    "duration": 4,
    "start_time": "2024-12-12T12:03:21.119Z"
   },
   {
    "duration": 13,
    "start_time": "2024-12-12T12:03:25.255Z"
   },
   {
    "duration": 4,
    "start_time": "2024-12-12T12:03:28.151Z"
   },
   {
    "duration": 6,
    "start_time": "2024-12-12T16:37:53.421Z"
   },
   {
    "duration": 11,
    "start_time": "2024-12-12T17:03:52.015Z"
   },
   {
    "duration": 4,
    "start_time": "2024-12-12T17:23:16.417Z"
   },
   {
    "duration": 12,
    "start_time": "2024-12-12T17:23:21.626Z"
   },
   {
    "duration": 14,
    "start_time": "2024-12-12T17:23:50.696Z"
   },
   {
    "duration": 52,
    "start_time": "2024-12-12T17:25:18.070Z"
   },
   {
    "duration": 4,
    "start_time": "2024-12-12T17:25:30.767Z"
   },
   {
    "duration": 272,
    "start_time": "2024-12-13T13:45:03.782Z"
   },
   {
    "duration": 257,
    "start_time": "2024-12-13T13:45:07.156Z"
   },
   {
    "duration": 10,
    "start_time": "2024-12-13T13:45:20.034Z"
   },
   {
    "duration": 7,
    "start_time": "2024-12-13T13:45:29.621Z"
   },
   {
    "duration": 12,
    "start_time": "2024-12-13T13:45:37.068Z"
   },
   {
    "duration": 6,
    "start_time": "2024-12-13T13:45:41.975Z"
   },
   {
    "duration": 3,
    "start_time": "2024-12-13T13:46:30.706Z"
   },
   {
    "duration": 17,
    "start_time": "2024-12-13T13:46:37.213Z"
   },
   {
    "duration": 57,
    "start_time": "2024-12-13T13:47:01.632Z"
   },
   {
    "duration": 5,
    "start_time": "2024-12-13T13:47:06.077Z"
   },
   {
    "duration": 26,
    "start_time": "2024-12-13T13:55:00.598Z"
   },
   {
    "duration": 29,
    "start_time": "2024-12-13T14:00:55.327Z"
   },
   {
    "duration": 4,
    "start_time": "2024-12-13T14:01:13.099Z"
   },
   {
    "duration": 19,
    "start_time": "2024-12-13T14:04:11.693Z"
   },
   {
    "duration": 55,
    "start_time": "2024-12-13T14:05:11.137Z"
   },
   {
    "duration": 5,
    "start_time": "2024-12-13T14:05:26.785Z"
   },
   {
    "duration": 16,
    "start_time": "2024-12-13T14:08:25.401Z"
   },
   {
    "duration": 20,
    "start_time": "2024-12-13T14:11:01.494Z"
   },
   {
    "duration": 5,
    "start_time": "2024-12-13T14:14:03.227Z"
   },
   {
    "duration": 20,
    "start_time": "2024-12-13T16:40:02.603Z"
   },
   {
    "duration": 173,
    "start_time": "2024-12-13T16:44:38.371Z"
   },
   {
    "duration": 17,
    "start_time": "2024-12-13T16:45:18.815Z"
   },
   {
    "duration": 2,
    "start_time": "2024-12-13T16:47:46.402Z"
   },
   {
    "duration": 3,
    "start_time": "2024-12-13T16:48:00.204Z"
   },
   {
    "duration": 15,
    "start_time": "2024-12-13T16:48:55.683Z"
   },
   {
    "duration": 15,
    "start_time": "2024-12-13T16:51:03.474Z"
   },
   {
    "duration": 16,
    "start_time": "2024-12-13T16:53:22.006Z"
   },
   {
    "duration": 16,
    "start_time": "2024-12-13T16:54:27.548Z"
   },
   {
    "duration": 157,
    "start_time": "2024-12-13T16:54:38.454Z"
   },
   {
    "duration": 29,
    "start_time": "2024-12-13T16:55:01.252Z"
   },
   {
    "duration": 4,
    "start_time": "2024-12-13T16:55:08.172Z"
   },
   {
    "duration": 18,
    "start_time": "2024-12-13T16:55:26.447Z"
   },
   {
    "duration": 14,
    "start_time": "2024-12-13T16:55:50.596Z"
   },
   {
    "duration": 267,
    "start_time": "2024-12-13T16:57:55.232Z"
   },
   {
    "duration": 21,
    "start_time": "2024-12-13T16:59:27.930Z"
   },
   {
    "duration": 18,
    "start_time": "2024-12-13T16:59:53.225Z"
   },
   {
    "duration": 15,
    "start_time": "2024-12-13T17:08:46.978Z"
   },
   {
    "duration": 17,
    "start_time": "2024-12-13T17:21:24.158Z"
   },
   {
    "duration": 12,
    "start_time": "2024-12-13T17:22:58.535Z"
   },
   {
    "duration": 5,
    "start_time": "2024-12-13T17:23:11.568Z"
   },
   {
    "duration": 295,
    "start_time": "2024-12-16T12:54:30.243Z"
   },
   {
    "duration": 213,
    "start_time": "2024-12-16T12:54:33.421Z"
   },
   {
    "duration": 9,
    "start_time": "2024-12-16T12:55:07.902Z"
   },
   {
    "duration": 7,
    "start_time": "2024-12-16T12:55:11.292Z"
   },
   {
    "duration": 11,
    "start_time": "2024-12-16T12:55:17.088Z"
   },
   {
    "duration": 5,
    "start_time": "2024-12-16T12:55:20.689Z"
   },
   {
    "duration": 4,
    "start_time": "2024-12-16T12:55:24.773Z"
   },
   {
    "duration": 16,
    "start_time": "2024-12-16T12:55:28.058Z"
   },
   {
    "duration": 53,
    "start_time": "2024-12-16T12:55:34.027Z"
   },
   {
    "duration": 5,
    "start_time": "2024-12-16T12:55:37.343Z"
   },
   {
    "duration": 26,
    "start_time": "2024-12-16T12:55:41.836Z"
   },
   {
    "duration": 30,
    "start_time": "2024-12-16T12:55:45.928Z"
   },
   {
    "duration": 4,
    "start_time": "2024-12-16T12:55:48.865Z"
   },
   {
    "duration": 178,
    "start_time": "2024-12-16T12:55:53.495Z"
   },
   {
    "duration": 16,
    "start_time": "2024-12-16T12:56:04.168Z"
   },
   {
    "duration": 51,
    "start_time": "2024-12-16T12:56:09.857Z"
   },
   {
    "duration": 4,
    "start_time": "2024-12-16T12:56:13.803Z"
   },
   {
    "duration": 21,
    "start_time": "2024-12-16T12:56:18.757Z"
   },
   {
    "duration": 5,
    "start_time": "2024-12-16T12:56:22.414Z"
   },
   {
    "duration": 20,
    "start_time": "2024-12-16T12:56:26.632Z"
   },
   {
    "duration": 16,
    "start_time": "2024-12-16T12:56:31.226Z"
   },
   {
    "duration": 17,
    "start_time": "2024-12-16T12:56:36.828Z"
   },
   {
    "duration": 18,
    "start_time": "2024-12-16T12:56:49.626Z"
   },
   {
    "duration": 16,
    "start_time": "2024-12-16T12:57:17.687Z"
   },
   {
    "duration": 20,
    "start_time": "2024-12-16T12:57:23.247Z"
   },
   {
    "duration": 15,
    "start_time": "2024-12-16T12:57:33.239Z"
   },
   {
    "duration": 5,
    "start_time": "2024-12-16T12:57:45.997Z"
   },
   {
    "duration": 507,
    "start_time": "2024-12-16T13:26:15.501Z"
   },
   {
    "duration": 9,
    "start_time": "2024-12-16T13:30:44.488Z"
   },
   {
    "duration": 25,
    "start_time": "2024-12-16T13:31:35.398Z"
   },
   {
    "duration": 11,
    "start_time": "2024-12-16T13:32:06.728Z"
   },
   {
    "duration": 23,
    "start_time": "2024-12-16T13:32:59.693Z"
   },
   {
    "duration": 12,
    "start_time": "2024-12-16T13:33:34.792Z"
   },
   {
    "duration": 26,
    "start_time": "2024-12-16T13:33:41.328Z"
   },
   {
    "duration": 2,
    "start_time": "2024-12-16T13:33:55.521Z"
   },
   {
    "duration": 14,
    "start_time": "2024-12-16T13:34:06.676Z"
   },
   {
    "duration": 131,
    "start_time": "2024-12-16T13:34:31.102Z"
   },
   {
    "duration": 9,
    "start_time": "2024-12-16T13:44:21.563Z"
   },
   {
    "duration": 68,
    "start_time": "2024-12-16T13:46:48.660Z"
   },
   {
    "duration": 12,
    "start_time": "2024-12-16T13:57:33.314Z"
   },
   {
    "duration": 17,
    "start_time": "2024-12-16T14:00:03.209Z"
   },
   {
    "duration": 15,
    "start_time": "2024-12-16T14:00:10.888Z"
   },
   {
    "duration": 11,
    "start_time": "2024-12-16T14:01:20.922Z"
   },
   {
    "duration": 71,
    "start_time": "2024-12-16T14:02:15.058Z"
   },
   {
    "duration": 2268,
    "start_time": "2024-12-16T16:36:15.558Z"
   },
   {
    "duration": 260,
    "start_time": "2024-12-16T16:36:52.150Z"
   },
   {
    "duration": 360,
    "start_time": "2024-12-16T16:48:20.926Z"
   },
   {
    "duration": 246,
    "start_time": "2024-12-16T16:51:08.122Z"
   },
   {
    "duration": 7,
    "start_time": "2024-12-16T16:57:41.096Z"
   },
   {
    "duration": 136,
    "start_time": "2024-12-16T17:00:01.196Z"
   },
   {
    "duration": 408,
    "start_time": "2024-12-16T17:23:36.395Z"
   },
   {
    "duration": 398,
    "start_time": "2024-12-16T17:26:54.107Z"
   },
   {
    "duration": 11,
    "start_time": "2024-12-16T17:37:31.110Z"
   },
   {
    "duration": 503,
    "start_time": "2024-12-16T17:40:19.797Z"
   },
   {
    "duration": 4,
    "start_time": "2024-12-16T20:07:58.130Z"
   },
   {
    "duration": 6,
    "start_time": "2024-12-16T20:09:46.137Z"
   },
   {
    "duration": 120,
    "start_time": "2024-12-16T20:12:08.017Z"
   },
   {
    "duration": 5,
    "start_time": "2024-12-16T20:13:55.444Z"
   },
   {
    "duration": 42,
    "start_time": "2024-12-16T20:14:21.629Z"
   },
   {
    "duration": 25,
    "start_time": "2024-12-16T20:17:02.583Z"
   },
   {
    "duration": 24,
    "start_time": "2024-12-16T20:17:26.542Z"
   },
   {
    "duration": 16,
    "start_time": "2024-12-16T20:18:32.561Z"
   },
   {
    "duration": 5,
    "start_time": "2024-12-16T20:19:27.830Z"
   },
   {
    "duration": 3,
    "start_time": "2024-12-16T20:22:37.529Z"
   },
   {
    "duration": 2552,
    "start_time": "2024-12-17T12:07:46.300Z"
   },
   {
    "duration": 226,
    "start_time": "2024-12-17T12:07:49.573Z"
   },
   {
    "duration": 11,
    "start_time": "2024-12-17T12:07:53.395Z"
   },
   {
    "duration": 6,
    "start_time": "2024-12-17T12:07:59.032Z"
   },
   {
    "duration": 12,
    "start_time": "2024-12-17T12:08:07.041Z"
   },
   {
    "duration": 6,
    "start_time": "2024-12-17T12:08:12.688Z"
   },
   {
    "duration": 3,
    "start_time": "2024-12-17T12:08:20.175Z"
   },
   {
    "duration": 15,
    "start_time": "2024-12-17T12:08:24.854Z"
   },
   {
    "duration": 54,
    "start_time": "2024-12-17T12:08:32.182Z"
   },
   {
    "duration": 4,
    "start_time": "2024-12-17T12:08:36.957Z"
   },
   {
    "duration": 27,
    "start_time": "2024-12-17T12:08:41.834Z"
   },
   {
    "duration": 30,
    "start_time": "2024-12-17T12:08:46.860Z"
   },
   {
    "duration": 4,
    "start_time": "2024-12-17T12:08:52.734Z"
   },
   {
    "duration": 17,
    "start_time": "2024-12-17T12:08:57.713Z"
   },
   {
    "duration": 17,
    "start_time": "2024-12-17T12:09:08.225Z"
   },
   {
    "duration": 52,
    "start_time": "2024-12-17T12:09:28.400Z"
   },
   {
    "duration": 4,
    "start_time": "2024-12-17T12:09:33.466Z"
   },
   {
    "duration": 21,
    "start_time": "2024-12-17T12:09:41.015Z"
   },
   {
    "duration": 6,
    "start_time": "2024-12-17T12:09:45.743Z"
   },
   {
    "duration": 20,
    "start_time": "2024-12-17T12:09:52.239Z"
   },
   {
    "duration": 20,
    "start_time": "2024-12-17T12:10:00.367Z"
   },
   {
    "duration": 16,
    "start_time": "2024-12-17T12:10:06.164Z"
   },
   {
    "duration": 17,
    "start_time": "2024-12-17T12:10:15.571Z"
   },
   {
    "duration": 19,
    "start_time": "2024-12-17T12:10:31.876Z"
   },
   {
    "duration": 16,
    "start_time": "2024-12-17T12:10:49.717Z"
   },
   {
    "duration": 17,
    "start_time": "2024-12-17T12:10:57.862Z"
   },
   {
    "duration": 16,
    "start_time": "2024-12-17T12:11:05.125Z"
   },
   {
    "duration": 15,
    "start_time": "2024-12-17T12:11:18.716Z"
   },
   {
    "duration": 11,
    "start_time": "2024-12-17T12:11:30.879Z"
   },
   {
    "duration": 73,
    "start_time": "2024-12-17T12:11:45.860Z"
   },
   {
    "duration": 276,
    "start_time": "2024-12-17T12:12:02.841Z"
   },
   {
    "duration": 250,
    "start_time": "2024-12-17T12:12:14.233Z"
   },
   {
    "duration": 7,
    "start_time": "2024-12-17T12:12:42.179Z"
   },
   {
    "duration": 185,
    "start_time": "2024-12-17T12:12:53.660Z"
   },
   {
    "duration": 414,
    "start_time": "2024-12-17T12:13:02.561Z"
   },
   {
    "duration": 366,
    "start_time": "2024-12-17T12:13:34.498Z"
   },
   {
    "duration": 11,
    "start_time": "2024-12-17T12:13:44.206Z"
   },
   {
    "duration": 10,
    "start_time": "2024-12-17T12:14:06.436Z"
   },
   {
    "duration": 430,
    "start_time": "2024-12-17T12:14:16.137Z"
   },
   {
    "duration": 4,
    "start_time": "2024-12-17T12:14:57.006Z"
   },
   {
    "duration": 6,
    "start_time": "2024-12-17T12:16:03.038Z"
   },
   {
    "duration": 5,
    "start_time": "2024-12-17T12:16:26.147Z"
   },
   {
    "duration": 6,
    "start_time": "2024-12-17T12:18:17.919Z"
   },
   {
    "duration": 2526,
    "start_time": "2024-12-17T23:12:03.256Z"
   },
   {
    "duration": 197,
    "start_time": "2024-12-17T23:12:05.784Z"
   },
   {
    "duration": 11,
    "start_time": "2024-12-17T23:12:05.982Z"
   },
   {
    "duration": 7,
    "start_time": "2024-12-17T23:12:05.994Z"
   },
   {
    "duration": 11,
    "start_time": "2024-12-17T23:12:06.003Z"
   },
   {
    "duration": 5,
    "start_time": "2024-12-17T23:12:06.015Z"
   },
   {
    "duration": 3,
    "start_time": "2024-12-17T23:12:06.022Z"
   },
   {
    "duration": 15,
    "start_time": "2024-12-17T23:12:06.027Z"
   },
   {
    "duration": 75,
    "start_time": "2024-12-17T23:12:06.044Z"
   },
   {
    "duration": 5,
    "start_time": "2024-12-17T23:12:06.120Z"
   },
   {
    "duration": 26,
    "start_time": "2024-12-17T23:12:06.126Z"
   },
   {
    "duration": 28,
    "start_time": "2024-12-17T23:12:06.154Z"
   },
   {
    "duration": 4,
    "start_time": "2024-12-17T23:12:06.184Z"
   },
   {
    "duration": 15,
    "start_time": "2024-12-17T23:12:06.214Z"
   },
   {
    "duration": 50,
    "start_time": "2024-12-17T23:12:06.231Z"
   },
   {
    "duration": 4,
    "start_time": "2024-12-17T23:12:06.283Z"
   },
   {
    "duration": 21,
    "start_time": "2024-12-17T23:12:06.311Z"
   },
   {
    "duration": 5,
    "start_time": "2024-12-17T23:12:06.333Z"
   },
   {
    "duration": 17,
    "start_time": "2024-12-17T23:12:06.340Z"
   },
   {
    "duration": 14,
    "start_time": "2024-12-17T23:12:06.359Z"
   },
   {
    "duration": 44,
    "start_time": "2024-12-17T23:12:06.375Z"
   },
   {
    "duration": 16,
    "start_time": "2024-12-17T23:12:06.421Z"
   },
   {
    "duration": 17,
    "start_time": "2024-12-17T23:12:06.439Z"
   },
   {
    "duration": 11,
    "start_time": "2024-12-17T23:12:06.458Z"
   },
   {
    "duration": 100,
    "start_time": "2024-12-17T23:12:06.473Z"
   },
   {
    "duration": 293,
    "start_time": "2024-12-17T23:12:06.575Z"
   },
   {
    "duration": 245,
    "start_time": "2024-12-17T23:12:06.870Z"
   },
   {
    "duration": 6,
    "start_time": "2024-12-17T23:12:07.118Z"
   },
   {
    "duration": 199,
    "start_time": "2024-12-17T23:12:07.126Z"
   },
   {
    "duration": 413,
    "start_time": "2024-12-17T23:12:07.327Z"
   },
   {
    "duration": 2,
    "start_time": "2024-12-17T23:12:07.742Z"
   },
   {
    "duration": 390,
    "start_time": "2024-12-17T23:12:07.746Z"
   },
   {
    "duration": 12,
    "start_time": "2024-12-17T23:12:08.138Z"
   },
   {
    "duration": 389,
    "start_time": "2024-12-17T23:12:08.152Z"
   },
   {
    "duration": 3,
    "start_time": "2024-12-17T23:12:08.543Z"
   },
   {
    "duration": 7,
    "start_time": "2024-12-17T23:12:08.548Z"
   },
   {
    "duration": 5,
    "start_time": "2024-12-17T23:12:08.556Z"
   },
   {
    "duration": 6,
    "start_time": "2024-12-17T23:12:55.440Z"
   },
   {
    "duration": 2508,
    "start_time": "2024-12-18T12:53:32.279Z"
   },
   {
    "duration": 226,
    "start_time": "2024-12-18T12:53:35.225Z"
   },
   {
    "duration": 10,
    "start_time": "2024-12-18T12:53:37.948Z"
   },
   {
    "duration": 7,
    "start_time": "2024-12-18T12:53:46.092Z"
   },
   {
    "duration": 12,
    "start_time": "2024-12-18T12:53:50.147Z"
   },
   {
    "duration": 6,
    "start_time": "2024-12-18T12:53:55.495Z"
   },
   {
    "duration": 4,
    "start_time": "2024-12-18T12:53:58.974Z"
   },
   {
    "duration": 15,
    "start_time": "2024-12-18T12:54:02.860Z"
   },
   {
    "duration": 54,
    "start_time": "2024-12-18T12:54:10.364Z"
   },
   {
    "duration": 4,
    "start_time": "2024-12-18T12:54:14.534Z"
   },
   {
    "duration": 26,
    "start_time": "2024-12-18T12:54:18.002Z"
   },
   {
    "duration": 28,
    "start_time": "2024-12-18T12:54:21.748Z"
   },
   {
    "duration": 5,
    "start_time": "2024-12-18T12:54:24.565Z"
   },
   {
    "duration": 17,
    "start_time": "2024-12-18T12:54:31.204Z"
   },
   {
    "duration": 51,
    "start_time": "2024-12-18T12:54:38.007Z"
   },
   {
    "duration": 5,
    "start_time": "2024-12-18T12:54:41.509Z"
   },
   {
    "duration": 20,
    "start_time": "2024-12-18T12:54:45.950Z"
   },
   {
    "duration": 5,
    "start_time": "2024-12-18T12:54:50.048Z"
   },
   {
    "duration": 19,
    "start_time": "2024-12-18T12:54:54.726Z"
   },
   {
    "duration": 20,
    "start_time": "2024-12-18T12:54:57.867Z"
   },
   {
    "duration": 17,
    "start_time": "2024-12-18T12:55:00.862Z"
   },
   {
    "duration": 17,
    "start_time": "2024-12-18T12:55:04.649Z"
   },
   {
    "duration": 18,
    "start_time": "2024-12-18T12:55:08.598Z"
   },
   {
    "duration": 16,
    "start_time": "2024-12-18T12:55:11.844Z"
   },
   {
    "duration": 16,
    "start_time": "2024-12-18T12:55:15.532Z"
   },
   {
    "duration": 11,
    "start_time": "2024-12-18T12:55:19.547Z"
   },
   {
    "duration": 72,
    "start_time": "2024-12-18T12:55:24.893Z"
   },
   {
    "duration": 253,
    "start_time": "2024-12-18T12:55:29.338Z"
   },
   {
    "duration": 240,
    "start_time": "2024-12-18T12:55:33.227Z"
   },
   {
    "duration": 6,
    "start_time": "2024-12-18T12:55:40.036Z"
   },
   {
    "duration": 135,
    "start_time": "2024-12-18T12:55:45.051Z"
   },
   {
    "duration": 479,
    "start_time": "2024-12-18T12:55:50.298Z"
   },
   {
    "duration": 357,
    "start_time": "2024-12-18T12:55:56.255Z"
   },
   {
    "duration": 13,
    "start_time": "2024-12-18T12:56:01.178Z"
   },
   {
    "duration": 10,
    "start_time": "2024-12-18T12:56:04.597Z"
   },
   {
    "duration": 412,
    "start_time": "2024-12-18T12:56:06.698Z"
   },
   {
    "duration": 3,
    "start_time": "2024-12-18T12:56:12.258Z"
   },
   {
    "duration": 228,
    "start_time": "2024-12-18T13:06:51.605Z"
   },
   {
    "duration": 2,
    "start_time": "2024-12-18T13:08:29.126Z"
   },
   {
    "duration": 7,
    "start_time": "2024-12-18T13:08:51.009Z"
   },
   {
    "duration": 8,
    "start_time": "2024-12-18T13:18:49.566Z"
   },
   {
    "duration": 17,
    "start_time": "2024-12-18T13:40:28.470Z"
   }
  ],
  "colab": {
   "provenance": []
  },
  "kernelspec": {
   "display_name": "Python 3",
   "language": "python",
   "name": "python3"
  },
  "language_info": {
   "codemirror_mode": {
    "name": "ipython",
    "version": 3
   },
   "file_extension": ".py",
   "mimetype": "text/x-python",
   "name": "python",
   "nbconvert_exporter": "python",
   "pygments_lexer": "ipython3",
   "version": "3.11.5"
  },
  "toc": {
   "base_numbering": 1,
   "nav_menu": {},
   "number_sections": true,
   "sideBar": true,
   "skip_h1_title": false,
   "title_cell": "Table of Contents",
   "title_sidebar": "Contents",
   "toc_cell": false,
   "toc_position": {
    "height": "calc(100% - 180px)",
    "left": "10px",
    "top": "150px",
    "width": "332.4px"
   },
   "toc_section_display": true,
   "toc_window_display": true
  }
 },
 "nbformat": 4,
 "nbformat_minor": 1
}
